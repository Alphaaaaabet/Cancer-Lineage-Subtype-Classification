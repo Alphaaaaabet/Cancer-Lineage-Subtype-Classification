{
 "cells": [
  {
   "cell_type": "code",
   "execution_count": 1,
   "metadata": {},
   "outputs": [],
   "source": [
    "import numpy as np"
   ]
  },
  {
   "cell_type": "code",
   "execution_count": 2,
   "metadata": {},
   "outputs": [],
   "source": [
    "import pandas as pd"
   ]
  },
  {
   "cell_type": "markdown",
   "metadata": {},
   "source": [
    "# Load the Data"
   ]
  },
  {
   "cell_type": "code",
   "execution_count": 3,
   "metadata": {
    "collapsed": false,
    "jupyter": {
     "outputs_hidden": false
    },
    "pycharm": {
     "name": "#%%\n"
    }
   },
   "outputs": [],
   "source": [
    "df = pd.read_csv(\"../data/cells_w_lineage.csv\")"
   ]
  },
  {
   "cell_type": "code",
   "execution_count": 4,
   "metadata": {
    "collapsed": false,
    "jupyter": {
     "outputs_hidden": false
    },
    "pycharm": {
     "name": "#%%\n"
    }
   },
   "outputs": [
    {
     "data": {
      "text/plain": [
       "(1226, 3)"
      ]
     },
     "execution_count": 4,
     "metadata": {},
     "output_type": "execute_result"
    }
   ],
   "source": [
    "df.shape"
   ]
  },
  {
   "cell_type": "code",
   "execution_count": 5,
   "metadata": {},
   "outputs": [
    {
     "data": {
      "text/html": [
       "<div>\n",
       "<style scoped>\n",
       "    .dataframe tbody tr th:only-of-type {\n",
       "        vertical-align: middle;\n",
       "    }\n",
       "\n",
       "    .dataframe tbody tr th {\n",
       "        vertical-align: top;\n",
       "    }\n",
       "\n",
       "    .dataframe thead th {\n",
       "        text-align: right;\n",
       "    }\n",
       "</style>\n",
       "<table border=\"1\" class=\"dataframe\">\n",
       "  <thead>\n",
       "    <tr style=\"text-align: right;\">\n",
       "      <th></th>\n",
       "      <th>CCLE_Name</th>\n",
       "      <th>lineage</th>\n",
       "      <th>lineage_subtype</th>\n",
       "    </tr>\n",
       "  </thead>\n",
       "  <tbody>\n",
       "    <tr>\n",
       "      <th>0</th>\n",
       "      <td>HL60_HAEMATOPOIETIC_AND_LYMPHOID_TISSUE</td>\n",
       "      <td>blood</td>\n",
       "      <td>AML</td>\n",
       "    </tr>\n",
       "    <tr>\n",
       "      <th>1</th>\n",
       "      <td>HEL_HAEMATOPOIETIC_AND_LYMPHOID_TISSUE</td>\n",
       "      <td>blood</td>\n",
       "      <td>AML</td>\n",
       "    </tr>\n",
       "    <tr>\n",
       "      <th>2</th>\n",
       "      <td>HEL9217_HAEMATOPOIETIC_AND_LYMPHOID_TISSUE</td>\n",
       "      <td>blood</td>\n",
       "      <td>AML</td>\n",
       "    </tr>\n",
       "    <tr>\n",
       "      <th>3</th>\n",
       "      <td>MONOMAC6_HAEMATOPOIETIC_AND_LYMPHOID_TISSUE</td>\n",
       "      <td>blood</td>\n",
       "      <td>AML</td>\n",
       "    </tr>\n",
       "    <tr>\n",
       "      <th>4</th>\n",
       "      <td>LS513_LARGE_INTESTINE</td>\n",
       "      <td>colorectal</td>\n",
       "      <td>colorectal_adenocarcinoma</td>\n",
       "    </tr>\n",
       "    <tr>\n",
       "      <th>...</th>\n",
       "      <td>...</td>\n",
       "      <td>...</td>\n",
       "      <td>...</td>\n",
       "    </tr>\n",
       "    <tr>\n",
       "      <th>1221</th>\n",
       "      <td>HUH6CLONE5</td>\n",
       "      <td>liver</td>\n",
       "      <td>hepatoblastoma</td>\n",
       "    </tr>\n",
       "    <tr>\n",
       "      <th>1222</th>\n",
       "      <td>SARC9371_BONE</td>\n",
       "      <td>bone</td>\n",
       "      <td>osteosarcoma</td>\n",
       "    </tr>\n",
       "    <tr>\n",
       "      <th>1223</th>\n",
       "      <td>LIM1215_LARGE_INTESTINE</td>\n",
       "      <td>colon</td>\n",
       "      <td>colon_adenocarcinoma</td>\n",
       "    </tr>\n",
       "    <tr>\n",
       "      <th>1224</th>\n",
       "      <td>WM793B_SKIN</td>\n",
       "      <td>skin</td>\n",
       "      <td>melanoma</td>\n",
       "    </tr>\n",
       "    <tr>\n",
       "      <th>1225</th>\n",
       "      <td>WT</td>\n",
       "      <td>WT</td>\n",
       "      <td>WT</td>\n",
       "    </tr>\n",
       "  </tbody>\n",
       "</table>\n",
       "<p>1226 rows × 3 columns</p>\n",
       "</div>"
      ],
      "text/plain": [
       "                                        CCLE_Name     lineage  \\\n",
       "0         HL60_HAEMATOPOIETIC_AND_LYMPHOID_TISSUE       blood   \n",
       "1          HEL_HAEMATOPOIETIC_AND_LYMPHOID_TISSUE       blood   \n",
       "2      HEL9217_HAEMATOPOIETIC_AND_LYMPHOID_TISSUE       blood   \n",
       "3     MONOMAC6_HAEMATOPOIETIC_AND_LYMPHOID_TISSUE       blood   \n",
       "4                           LS513_LARGE_INTESTINE  colorectal   \n",
       "...                                           ...         ...   \n",
       "1221                                   HUH6CLONE5       liver   \n",
       "1222                                SARC9371_BONE        bone   \n",
       "1223                      LIM1215_LARGE_INTESTINE       colon   \n",
       "1224                                  WM793B_SKIN        skin   \n",
       "1225                                           WT          WT   \n",
       "\n",
       "                lineage_subtype  \n",
       "0                           AML  \n",
       "1                           AML  \n",
       "2                           AML  \n",
       "3                           AML  \n",
       "4     colorectal_adenocarcinoma  \n",
       "...                         ...  \n",
       "1221             hepatoblastoma  \n",
       "1222               osteosarcoma  \n",
       "1223       colon_adenocarcinoma  \n",
       "1224                   melanoma  \n",
       "1225                         WT  \n",
       "\n",
       "[1226 rows x 3 columns]"
      ]
     },
     "execution_count": 5,
     "metadata": {},
     "output_type": "execute_result"
    }
   ],
   "source": [
    "df"
   ]
  },
  {
   "cell_type": "code",
   "execution_count": null,
   "metadata": {},
   "outputs": [],
   "source": []
  },
  {
   "cell_type": "markdown",
   "metadata": {},
   "source": [
    "# EDA"
   ]
  },
  {
   "cell_type": "markdown",
   "metadata": {},
   "source": [
    "### Each row has a unique name"
   ]
  },
  {
   "cell_type": "code",
   "execution_count": 6,
   "metadata": {
    "collapsed": false,
    "jupyter": {
     "outputs_hidden": false
    },
    "pycharm": {
     "name": "#%%\n"
    }
   },
   "outputs": [
    {
     "data": {
      "text/plain": [
       "1225"
      ]
     },
     "execution_count": 6,
     "metadata": {},
     "output_type": "execute_result"
    }
   ],
   "source": [
    "len(df['CCLE_Name'].unique())"
   ]
  },
  {
   "cell_type": "code",
   "execution_count": null,
   "metadata": {},
   "outputs": [],
   "source": []
  },
  {
   "cell_type": "code",
   "execution_count": 7,
   "metadata": {
    "collapsed": false,
    "jupyter": {
     "outputs_hidden": false
    },
    "pycharm": {
     "name": "#%%\n"
    }
   },
   "outputs": [
    {
     "data": {
      "text/plain": [
       "array(['blood', 'colorectal', 'skin', 'urinary_tract', 'lung', 'ovary',\n",
       "       'breast', 'pancreas', 'plasma_cell', 'central_nervous_system',\n",
       "       'soft_tissue', 'lymphocyte', 'bone', 'kidney', 'gastric',\n",
       "       'thyroid', 'peripheral_nervous_system', 'prostate', 'fibroblast',\n",
       "       'bile_duct', 'uterus', 'upper_aerodigestive', 'liver', 'esophagus',\n",
       "       'cervix', 'unknown', 'adrenal_cortex', 'epidermoid_carcinoma',\n",
       "       'engineered', 'embryo', 'colon', 'WT'], dtype=object)"
      ]
     },
     "execution_count": 7,
     "metadata": {},
     "output_type": "execute_result"
    }
   ],
   "source": [
    "df['lineage'].unique()"
   ]
  },
  {
   "cell_type": "code",
   "execution_count": 8,
   "metadata": {},
   "outputs": [
    {
     "data": {
      "text/plain": [
       "32"
      ]
     },
     "execution_count": 8,
     "metadata": {},
     "output_type": "execute_result"
    }
   ],
   "source": [
    "len(df['lineage'].unique())"
   ]
  },
  {
   "cell_type": "code",
   "execution_count": null,
   "metadata": {},
   "outputs": [],
   "source": []
  },
  {
   "cell_type": "code",
   "execution_count": 9,
   "metadata": {},
   "outputs": [
    {
     "data": {
      "text/plain": [
       "array(['AML', 'colorectal_adenocarcinoma', 'melanoma',\n",
       "       'bladder_carcinoma', 'NSCLC', 'ovary_adenocarcinoma',\n",
       "       'breast_carcinoma', 'ALL', 'exocrine', 'multiple_myeloma',\n",
       "       'glioma', 'thyroid_sarcoma', 'lymphoma_unspecified',\n",
       "       'Ewing_sarcoma', 'breast_ductal_carcinoma', 'renal_cell_carcinoma',\n",
       "       'gastric_adenocarcinoma', 'rhabdomyosarcoma',\n",
       "       'non_hodgkin_lymphoma', 'fibrosarcoma', 'medulloblastoma',\n",
       "       'thyroid_carcinoma', 'hodgkin_lymphoma', 'CML', 'neuroblastoma',\n",
       "       'osteosarcoma', 'mesothelioma', 'prostate_adenocarcinoma',\n",
       "       'malignant_rhabdoid_tumor', 'breast_adenocarcinoma', 'SCLC',\n",
       "       'fibroblast_soft_tissue', 'fibroblast_skin',\n",
       "       'gallbladder_adenocarcinoma', 'leiomyosarcoma', 'thyroid_squamous',\n",
       "       'endometrial_adenocarcinoma', 'prostate_small_cell',\n",
       "       'upper_aerodigestive_squamous', 'cholangiocarcinoma',\n",
       "       'hepatocellular_carcinoma', 'gastric_small_cell', 'brenner_tumor',\n",
       "       'mullerian_carcinoma', 'esophagus_squamous', 'CLL', 'endocrine',\n",
       "       'caecum_adenocarcinoma', 'esophagus_adenocarcinoma', 'MMMT',\n",
       "       'chondrosarcoma', 'uterine_sarcoma', nan,\n",
       "       'duodenal_adenocarcinoma', 'cervical_carcinoma', 'hepatoblastoma',\n",
       "       'ovary_carcinoma', 'lung_carcinoid', 'pleomorphic_sarcoma',\n",
       "       'endometrial_stromal_sarcoma', 'endometrial_adenosquamous',\n",
       "       'merkel_cell_carcinoma', 'synovial_sarcoma', 'skin_squamous',\n",
       "       'cervical_squamous', 'cervical_adenocarcinoma', 'mixed_germ_cell',\n",
       "       'adrenal_carcinoma', 'skin_squamous ', 'prostate_hyperplasia',\n",
       "       'lung_carcinoma', 'choriocarcinoma', 'endometrial_squamous',\n",
       "       'PNET', 'epithelioid_sarcoma', 'upper_aerodigestive_carcinoma',\n",
       "       'granulosa_cell_tumor', 'cervical_small_cell',\n",
       "       'hairy_cell_leukemia', 'malignant_fibrous_histiocytoma',\n",
       "       'acute_biphenotypic_leukemia', 'NKC', 'liposarcoma',\n",
       "       'colon_adenocarcinoma', 'WT'], dtype=object)"
      ]
     },
     "execution_count": 9,
     "metadata": {},
     "output_type": "execute_result"
    }
   ],
   "source": [
    "df['lineage_subtype'].unique()"
   ]
  },
  {
   "cell_type": "code",
   "execution_count": 10,
   "metadata": {},
   "outputs": [
    {
     "data": {
      "text/plain": [
       "85"
      ]
     },
     "execution_count": 10,
     "metadata": {},
     "output_type": "execute_result"
    }
   ],
   "source": [
    "len(df['lineage_subtype'].unique())"
   ]
  },
  {
   "cell_type": "code",
   "execution_count": null,
   "metadata": {},
   "outputs": [],
   "source": []
  },
  {
   "cell_type": "code",
   "execution_count": 11,
   "metadata": {},
   "outputs": [
    {
     "data": {
      "text/plain": [
       "88"
      ]
     },
     "execution_count": 11,
     "metadata": {},
     "output_type": "execute_result"
    }
   ],
   "source": [
    "len((df['lineage'] + \"-\" + df['lineage_subtype']).unique())"
   ]
  },
  {
   "cell_type": "code",
   "execution_count": 12,
   "metadata": {},
   "outputs": [
    {
     "data": {
      "text/plain": [
       "array(['blood-AML', 'colorectal-colorectal_adenocarcinoma',\n",
       "       'skin-melanoma', 'urinary_tract-bladder_carcinoma', 'lung-NSCLC',\n",
       "       'ovary-ovary_adenocarcinoma', 'breast-breast_carcinoma',\n",
       "       'blood-ALL', 'pancreas-exocrine', 'plasma_cell-multiple_myeloma',\n",
       "       'central_nervous_system-glioma', 'soft_tissue-thyroid_sarcoma',\n",
       "       'lymphocyte-lymphoma_unspecified', 'bone-Ewing_sarcoma',\n",
       "       'breast-breast_ductal_carcinoma', 'kidney-renal_cell_carcinoma',\n",
       "       'gastric-gastric_adenocarcinoma', 'soft_tissue-rhabdomyosarcoma',\n",
       "       'lymphocyte-non_hodgkin_lymphoma', 'soft_tissue-fibrosarcoma',\n",
       "       'central_nervous_system-medulloblastoma',\n",
       "       'thyroid-thyroid_carcinoma', 'lymphocyte-hodgkin_lymphoma',\n",
       "       'blood-CML', 'peripheral_nervous_system-neuroblastoma',\n",
       "       'bone-osteosarcoma', 'lung-mesothelioma',\n",
       "       'prostate-prostate_adenocarcinoma',\n",
       "       'kidney-malignant_rhabdoid_tumor', 'breast-breast_adenocarcinoma',\n",
       "       'lung-SCLC', 'fibroblast-fibroblast_soft_tissue',\n",
       "       'fibroblast-fibroblast_skin',\n",
       "       'bile_duct-gallbladder_adenocarcinoma',\n",
       "       'soft_tissue-leiomyosarcoma', 'thyroid-thyroid_squamous',\n",
       "       'uterus-endometrial_adenocarcinoma',\n",
       "       'prostate-prostate_small_cell',\n",
       "       'upper_aerodigestive-upper_aerodigestive_squamous',\n",
       "       'bile_duct-cholangiocarcinoma',\n",
       "       'soft_tissue-malignant_rhabdoid_tumor',\n",
       "       'liver-hepatocellular_carcinoma', 'gastric-gastric_small_cell',\n",
       "       'ovary-brenner_tumor', 'uterus-mullerian_carcinoma',\n",
       "       'esophagus-esophagus_squamous', 'blood-CLL', 'pancreas-endocrine',\n",
       "       'colorectal-caecum_adenocarcinoma',\n",
       "       'esophagus-esophagus_adenocarcinoma', 'uterus-MMMT',\n",
       "       'bone-chondrosarcoma', 'soft_tissue-uterine_sarcoma', nan,\n",
       "       'gastric-duodenal_adenocarcinoma', 'cervix-cervical_carcinoma',\n",
       "       'liver-hepatoblastoma', 'ovary-ovary_carcinoma',\n",
       "       'lung-lung_carcinoid', 'soft_tissue-pleomorphic_sarcoma',\n",
       "       'uterus-endometrial_stromal_sarcoma',\n",
       "       'uterus-endometrial_adenosquamous', 'skin-merkel_cell_carcinoma',\n",
       "       'soft_tissue-synovial_sarcoma', 'skin-skin_squamous',\n",
       "       'cervix-cervical_squamous', 'cervix-cervical_adenocarcinoma',\n",
       "       'ovary-mixed_germ_cell', 'adrenal_cortex-adrenal_carcinoma',\n",
       "       'epidermoid_carcinoma-skin_squamous ',\n",
       "       'prostate-prostate_hyperplasia', 'lung-lung_carcinoma',\n",
       "       'uterus-choriocarcinoma', 'uterus-endometrial_squamous',\n",
       "       'peripheral_nervous_system-PNET',\n",
       "       'soft_tissue-epithelioid_sarcoma', 'central_nervous_system-PNET',\n",
       "       'upper_aerodigestive-upper_aerodigestive_carcinoma',\n",
       "       'ovary-granulosa_cell_tumor', 'gastric-choriocarcinoma',\n",
       "       'cervix-cervical_small_cell', 'blood-hairy_cell_leukemia',\n",
       "       'soft_tissue-malignant_fibrous_histiocytoma',\n",
       "       'blood-acute_biphenotypic_leukemia', 'blood-NKC',\n",
       "       'soft_tissue-liposarcoma', 'colon-colon_adenocarcinoma', 'WT-WT'],\n",
       "      dtype=object)"
      ]
     },
     "execution_count": 12,
     "metadata": {},
     "output_type": "execute_result"
    }
   ],
   "source": [
    "(df['lineage'] + \"-\" + df['lineage_subtype']).unique()"
   ]
  },
  {
   "cell_type": "code",
   "execution_count": null,
   "metadata": {},
   "outputs": [],
   "source": []
  },
  {
   "cell_type": "code",
   "execution_count": 13,
   "metadata": {},
   "outputs": [],
   "source": [
    "data = [ df['CCLE_Name'] , df['lineage'] + \"-\" + df['lineage_subtype']]"
   ]
  },
  {
   "cell_type": "code",
   "execution_count": null,
   "metadata": {},
   "outputs": [],
   "source": []
  },
  {
   "cell_type": "code",
   "execution_count": null,
   "metadata": {},
   "outputs": [],
   "source": []
  },
  {
   "cell_type": "code",
   "execution_count": null,
   "metadata": {},
   "outputs": [],
   "source": []
  },
  {
   "cell_type": "markdown",
   "metadata": {},
   "source": [
    "# Create a new dataframe"
   ]
  },
  {
   "cell_type": "code",
   "execution_count": 14,
   "metadata": {},
   "outputs": [
    {
     "data": {
      "text/html": [
       "<div>\n",
       "<style scoped>\n",
       "    .dataframe tbody tr th:only-of-type {\n",
       "        vertical-align: middle;\n",
       "    }\n",
       "\n",
       "    .dataframe tbody tr th {\n",
       "        vertical-align: top;\n",
       "    }\n",
       "\n",
       "    .dataframe thead th {\n",
       "        text-align: right;\n",
       "    }\n",
       "</style>\n",
       "<table border=\"1\" class=\"dataframe\">\n",
       "  <thead>\n",
       "    <tr style=\"text-align: right;\">\n",
       "      <th></th>\n",
       "      <th>CCLE_Name</th>\n",
       "      <th>lineage_subtype</th>\n",
       "    </tr>\n",
       "  </thead>\n",
       "  <tbody>\n",
       "    <tr>\n",
       "      <th>0</th>\n",
       "      <td>HL60_HAEMATOPOIETIC_AND_LYMPHOID_TISSUE</td>\n",
       "      <td>AML</td>\n",
       "    </tr>\n",
       "    <tr>\n",
       "      <th>1</th>\n",
       "      <td>HEL_HAEMATOPOIETIC_AND_LYMPHOID_TISSUE</td>\n",
       "      <td>AML</td>\n",
       "    </tr>\n",
       "    <tr>\n",
       "      <th>2</th>\n",
       "      <td>HEL9217_HAEMATOPOIETIC_AND_LYMPHOID_TISSUE</td>\n",
       "      <td>AML</td>\n",
       "    </tr>\n",
       "    <tr>\n",
       "      <th>3</th>\n",
       "      <td>MONOMAC6_HAEMATOPOIETIC_AND_LYMPHOID_TISSUE</td>\n",
       "      <td>AML</td>\n",
       "    </tr>\n",
       "    <tr>\n",
       "      <th>4</th>\n",
       "      <td>LS513_LARGE_INTESTINE</td>\n",
       "      <td>colorectal_adenocarcinoma</td>\n",
       "    </tr>\n",
       "    <tr>\n",
       "      <th>...</th>\n",
       "      <td>...</td>\n",
       "      <td>...</td>\n",
       "    </tr>\n",
       "    <tr>\n",
       "      <th>1221</th>\n",
       "      <td>HUH6CLONE5</td>\n",
       "      <td>hepatoblastoma</td>\n",
       "    </tr>\n",
       "    <tr>\n",
       "      <th>1222</th>\n",
       "      <td>SARC9371_BONE</td>\n",
       "      <td>osteosarcoma</td>\n",
       "    </tr>\n",
       "    <tr>\n",
       "      <th>1223</th>\n",
       "      <td>LIM1215_LARGE_INTESTINE</td>\n",
       "      <td>colon_adenocarcinoma</td>\n",
       "    </tr>\n",
       "    <tr>\n",
       "      <th>1224</th>\n",
       "      <td>WM793B_SKIN</td>\n",
       "      <td>melanoma</td>\n",
       "    </tr>\n",
       "    <tr>\n",
       "      <th>1225</th>\n",
       "      <td>WT</td>\n",
       "      <td>WT</td>\n",
       "    </tr>\n",
       "  </tbody>\n",
       "</table>\n",
       "<p>1226 rows × 2 columns</p>\n",
       "</div>"
      ],
      "text/plain": [
       "                                        CCLE_Name            lineage_subtype\n",
       "0         HL60_HAEMATOPOIETIC_AND_LYMPHOID_TISSUE                        AML\n",
       "1          HEL_HAEMATOPOIETIC_AND_LYMPHOID_TISSUE                        AML\n",
       "2      HEL9217_HAEMATOPOIETIC_AND_LYMPHOID_TISSUE                        AML\n",
       "3     MONOMAC6_HAEMATOPOIETIC_AND_LYMPHOID_TISSUE                        AML\n",
       "4                           LS513_LARGE_INTESTINE  colorectal_adenocarcinoma\n",
       "...                                           ...                        ...\n",
       "1221                                   HUH6CLONE5             hepatoblastoma\n",
       "1222                                SARC9371_BONE               osteosarcoma\n",
       "1223                      LIM1215_LARGE_INTESTINE       colon_adenocarcinoma\n",
       "1224                                  WM793B_SKIN                   melanoma\n",
       "1225                                           WT                         WT\n",
       "\n",
       "[1226 rows x 2 columns]"
      ]
     },
     "execution_count": 14,
     "metadata": {},
     "output_type": "execute_result"
    }
   ],
   "source": [
    "new_df = df[['CCLE_Name', 'lineage_subtype']]\n",
    "new_df"
   ]
  },
  {
   "cell_type": "code",
   "execution_count": 15,
   "metadata": {},
   "outputs": [],
   "source": [
    "unique_types = new_df['lineage_subtype'].unique()"
   ]
  },
  {
   "cell_type": "code",
   "execution_count": 16,
   "metadata": {},
   "outputs": [
    {
     "data": {
      "text/plain": [
       "array(['AML', 'colorectal_adenocarcinoma', 'melanoma',\n",
       "       'bladder_carcinoma', 'NSCLC', 'ovary_adenocarcinoma',\n",
       "       'breast_carcinoma', 'ALL', 'exocrine', 'multiple_myeloma',\n",
       "       'glioma', 'thyroid_sarcoma', 'lymphoma_unspecified',\n",
       "       'Ewing_sarcoma', 'breast_ductal_carcinoma', 'renal_cell_carcinoma',\n",
       "       'gastric_adenocarcinoma', 'rhabdomyosarcoma',\n",
       "       'non_hodgkin_lymphoma', 'fibrosarcoma', 'medulloblastoma',\n",
       "       'thyroid_carcinoma', 'hodgkin_lymphoma', 'CML', 'neuroblastoma',\n",
       "       'osteosarcoma', 'mesothelioma', 'prostate_adenocarcinoma',\n",
       "       'malignant_rhabdoid_tumor', 'breast_adenocarcinoma', 'SCLC',\n",
       "       'fibroblast_soft_tissue', 'fibroblast_skin',\n",
       "       'gallbladder_adenocarcinoma', 'leiomyosarcoma', 'thyroid_squamous',\n",
       "       'endometrial_adenocarcinoma', 'prostate_small_cell',\n",
       "       'upper_aerodigestive_squamous', 'cholangiocarcinoma',\n",
       "       'hepatocellular_carcinoma', 'gastric_small_cell', 'brenner_tumor',\n",
       "       'mullerian_carcinoma', 'esophagus_squamous', 'CLL', 'endocrine',\n",
       "       'caecum_adenocarcinoma', 'esophagus_adenocarcinoma', 'MMMT',\n",
       "       'chondrosarcoma', 'uterine_sarcoma', nan,\n",
       "       'duodenal_adenocarcinoma', 'cervical_carcinoma', 'hepatoblastoma',\n",
       "       'ovary_carcinoma', 'lung_carcinoid', 'pleomorphic_sarcoma',\n",
       "       'endometrial_stromal_sarcoma', 'endometrial_adenosquamous',\n",
       "       'merkel_cell_carcinoma', 'synovial_sarcoma', 'skin_squamous',\n",
       "       'cervical_squamous', 'cervical_adenocarcinoma', 'mixed_germ_cell',\n",
       "       'adrenal_carcinoma', 'skin_squamous ', 'prostate_hyperplasia',\n",
       "       'lung_carcinoma', 'choriocarcinoma', 'endometrial_squamous',\n",
       "       'PNET', 'epithelioid_sarcoma', 'upper_aerodigestive_carcinoma',\n",
       "       'granulosa_cell_tumor', 'cervical_small_cell',\n",
       "       'hairy_cell_leukemia', 'malignant_fibrous_histiocytoma',\n",
       "       'acute_biphenotypic_leukemia', 'NKC', 'liposarcoma',\n",
       "       'colon_adenocarcinoma', 'WT'], dtype=object)"
      ]
     },
     "execution_count": 16,
     "metadata": {},
     "output_type": "execute_result"
    }
   ],
   "source": [
    "new_df['lineage_subtype'].unique()"
   ]
  },
  {
   "cell_type": "code",
   "execution_count": 17,
   "metadata": {},
   "outputs": [
    {
     "data": {
      "text/plain": [
       "0        True\n",
       "1        True\n",
       "2        True\n",
       "3        True\n",
       "4       False\n",
       "        ...  \n",
       "1221    False\n",
       "1222    False\n",
       "1223    False\n",
       "1224    False\n",
       "1225    False\n",
       "Name: lineage_subtype, Length: 1226, dtype: bool"
      ]
     },
     "execution_count": 17,
     "metadata": {},
     "output_type": "execute_result"
    }
   ],
   "source": [
    "new_df['lineage_subtype'] == new_df['lineage_subtype'].unique()[0]"
   ]
  },
  {
   "cell_type": "code",
   "execution_count": 18,
   "metadata": {},
   "outputs": [],
   "source": [
    "new_col_name = 'id'"
   ]
  },
  {
   "cell_type": "code",
   "execution_count": 19,
   "metadata": {},
   "outputs": [],
   "source": [
    "new_df[new_col_name] = np.nan"
   ]
  },
  {
   "cell_type": "code",
   "execution_count": 20,
   "metadata": {},
   "outputs": [
    {
     "data": {
      "text/html": [
       "<div>\n",
       "<style scoped>\n",
       "    .dataframe tbody tr th:only-of-type {\n",
       "        vertical-align: middle;\n",
       "    }\n",
       "\n",
       "    .dataframe tbody tr th {\n",
       "        vertical-align: top;\n",
       "    }\n",
       "\n",
       "    .dataframe thead th {\n",
       "        text-align: right;\n",
       "    }\n",
       "</style>\n",
       "<table border=\"1\" class=\"dataframe\">\n",
       "  <thead>\n",
       "    <tr style=\"text-align: right;\">\n",
       "      <th></th>\n",
       "      <th>CCLE_Name</th>\n",
       "      <th>lineage_subtype</th>\n",
       "      <th>id</th>\n",
       "    </tr>\n",
       "  </thead>\n",
       "  <tbody>\n",
       "    <tr>\n",
       "      <th>0</th>\n",
       "      <td>HL60_HAEMATOPOIETIC_AND_LYMPHOID_TISSUE</td>\n",
       "      <td>AML</td>\n",
       "      <td>NaN</td>\n",
       "    </tr>\n",
       "    <tr>\n",
       "      <th>1</th>\n",
       "      <td>HEL_HAEMATOPOIETIC_AND_LYMPHOID_TISSUE</td>\n",
       "      <td>AML</td>\n",
       "      <td>NaN</td>\n",
       "    </tr>\n",
       "    <tr>\n",
       "      <th>2</th>\n",
       "      <td>HEL9217_HAEMATOPOIETIC_AND_LYMPHOID_TISSUE</td>\n",
       "      <td>AML</td>\n",
       "      <td>NaN</td>\n",
       "    </tr>\n",
       "    <tr>\n",
       "      <th>3</th>\n",
       "      <td>MONOMAC6_HAEMATOPOIETIC_AND_LYMPHOID_TISSUE</td>\n",
       "      <td>AML</td>\n",
       "      <td>NaN</td>\n",
       "    </tr>\n",
       "    <tr>\n",
       "      <th>4</th>\n",
       "      <td>LS513_LARGE_INTESTINE</td>\n",
       "      <td>colorectal_adenocarcinoma</td>\n",
       "      <td>NaN</td>\n",
       "    </tr>\n",
       "    <tr>\n",
       "      <th>...</th>\n",
       "      <td>...</td>\n",
       "      <td>...</td>\n",
       "      <td>...</td>\n",
       "    </tr>\n",
       "    <tr>\n",
       "      <th>1221</th>\n",
       "      <td>HUH6CLONE5</td>\n",
       "      <td>hepatoblastoma</td>\n",
       "      <td>NaN</td>\n",
       "    </tr>\n",
       "    <tr>\n",
       "      <th>1222</th>\n",
       "      <td>SARC9371_BONE</td>\n",
       "      <td>osteosarcoma</td>\n",
       "      <td>NaN</td>\n",
       "    </tr>\n",
       "    <tr>\n",
       "      <th>1223</th>\n",
       "      <td>LIM1215_LARGE_INTESTINE</td>\n",
       "      <td>colon_adenocarcinoma</td>\n",
       "      <td>NaN</td>\n",
       "    </tr>\n",
       "    <tr>\n",
       "      <th>1224</th>\n",
       "      <td>WM793B_SKIN</td>\n",
       "      <td>melanoma</td>\n",
       "      <td>NaN</td>\n",
       "    </tr>\n",
       "    <tr>\n",
       "      <th>1225</th>\n",
       "      <td>WT</td>\n",
       "      <td>WT</td>\n",
       "      <td>NaN</td>\n",
       "    </tr>\n",
       "  </tbody>\n",
       "</table>\n",
       "<p>1226 rows × 3 columns</p>\n",
       "</div>"
      ],
      "text/plain": [
       "                                        CCLE_Name            lineage_subtype  \\\n",
       "0         HL60_HAEMATOPOIETIC_AND_LYMPHOID_TISSUE                        AML   \n",
       "1          HEL_HAEMATOPOIETIC_AND_LYMPHOID_TISSUE                        AML   \n",
       "2      HEL9217_HAEMATOPOIETIC_AND_LYMPHOID_TISSUE                        AML   \n",
       "3     MONOMAC6_HAEMATOPOIETIC_AND_LYMPHOID_TISSUE                        AML   \n",
       "4                           LS513_LARGE_INTESTINE  colorectal_adenocarcinoma   \n",
       "...                                           ...                        ...   \n",
       "1221                                   HUH6CLONE5             hepatoblastoma   \n",
       "1222                                SARC9371_BONE               osteosarcoma   \n",
       "1223                      LIM1215_LARGE_INTESTINE       colon_adenocarcinoma   \n",
       "1224                                  WM793B_SKIN                   melanoma   \n",
       "1225                                           WT                         WT   \n",
       "\n",
       "      id  \n",
       "0    NaN  \n",
       "1    NaN  \n",
       "2    NaN  \n",
       "3    NaN  \n",
       "4    NaN  \n",
       "...   ..  \n",
       "1221 NaN  \n",
       "1222 NaN  \n",
       "1223 NaN  \n",
       "1224 NaN  \n",
       "1225 NaN  \n",
       "\n",
       "[1226 rows x 3 columns]"
      ]
     },
     "execution_count": 20,
     "metadata": {},
     "output_type": "execute_result"
    }
   ],
   "source": [
    "new_df"
   ]
  },
  {
   "cell_type": "code",
   "execution_count": 21,
   "metadata": {},
   "outputs": [
    {
     "name": "stderr",
     "output_type": "stream",
     "text": [
      "<ipython-input-21-356123ff59c1>:2: SettingWithCopyWarning: \n",
      "A value is trying to be set on a copy of a slice from a DataFrame\n",
      "\n",
      "See the caveats in the documentation: https://pandas.pydata.org/pandas-docs/stable/user_guide/indexing.html#returning-a-view-versus-a-copy\n",
      "  new_df.id[new_df['lineage_subtype'] == unique_types[i]] = i\n"
     ]
    }
   ],
   "source": [
    "for i in range (len(unique_types)):\n",
    "    new_df.id[new_df['lineage_subtype'] == unique_types[i]] = i"
   ]
  },
  {
   "cell_type": "code",
   "execution_count": 22,
   "metadata": {},
   "outputs": [
    {
     "data": {
      "text/html": [
       "<div>\n",
       "<style scoped>\n",
       "    .dataframe tbody tr th:only-of-type {\n",
       "        vertical-align: middle;\n",
       "    }\n",
       "\n",
       "    .dataframe tbody tr th {\n",
       "        vertical-align: top;\n",
       "    }\n",
       "\n",
       "    .dataframe thead th {\n",
       "        text-align: right;\n",
       "    }\n",
       "</style>\n",
       "<table border=\"1\" class=\"dataframe\">\n",
       "  <thead>\n",
       "    <tr style=\"text-align: right;\">\n",
       "      <th></th>\n",
       "      <th>CCLE_Name</th>\n",
       "      <th>lineage_subtype</th>\n",
       "      <th>id</th>\n",
       "    </tr>\n",
       "  </thead>\n",
       "  <tbody>\n",
       "    <tr>\n",
       "      <th>0</th>\n",
       "      <td>HL60_HAEMATOPOIETIC_AND_LYMPHOID_TISSUE</td>\n",
       "      <td>AML</td>\n",
       "      <td>0.0</td>\n",
       "    </tr>\n",
       "    <tr>\n",
       "      <th>1</th>\n",
       "      <td>HEL_HAEMATOPOIETIC_AND_LYMPHOID_TISSUE</td>\n",
       "      <td>AML</td>\n",
       "      <td>0.0</td>\n",
       "    </tr>\n",
       "    <tr>\n",
       "      <th>2</th>\n",
       "      <td>HEL9217_HAEMATOPOIETIC_AND_LYMPHOID_TISSUE</td>\n",
       "      <td>AML</td>\n",
       "      <td>0.0</td>\n",
       "    </tr>\n",
       "    <tr>\n",
       "      <th>3</th>\n",
       "      <td>MONOMAC6_HAEMATOPOIETIC_AND_LYMPHOID_TISSUE</td>\n",
       "      <td>AML</td>\n",
       "      <td>0.0</td>\n",
       "    </tr>\n",
       "    <tr>\n",
       "      <th>4</th>\n",
       "      <td>LS513_LARGE_INTESTINE</td>\n",
       "      <td>colorectal_adenocarcinoma</td>\n",
       "      <td>1.0</td>\n",
       "    </tr>\n",
       "    <tr>\n",
       "      <th>...</th>\n",
       "      <td>...</td>\n",
       "      <td>...</td>\n",
       "      <td>...</td>\n",
       "    </tr>\n",
       "    <tr>\n",
       "      <th>1221</th>\n",
       "      <td>HUH6CLONE5</td>\n",
       "      <td>hepatoblastoma</td>\n",
       "      <td>55.0</td>\n",
       "    </tr>\n",
       "    <tr>\n",
       "      <th>1222</th>\n",
       "      <td>SARC9371_BONE</td>\n",
       "      <td>osteosarcoma</td>\n",
       "      <td>25.0</td>\n",
       "    </tr>\n",
       "    <tr>\n",
       "      <th>1223</th>\n",
       "      <td>LIM1215_LARGE_INTESTINE</td>\n",
       "      <td>colon_adenocarcinoma</td>\n",
       "      <td>83.0</td>\n",
       "    </tr>\n",
       "    <tr>\n",
       "      <th>1224</th>\n",
       "      <td>WM793B_SKIN</td>\n",
       "      <td>melanoma</td>\n",
       "      <td>2.0</td>\n",
       "    </tr>\n",
       "    <tr>\n",
       "      <th>1225</th>\n",
       "      <td>WT</td>\n",
       "      <td>WT</td>\n",
       "      <td>84.0</td>\n",
       "    </tr>\n",
       "  </tbody>\n",
       "</table>\n",
       "<p>1226 rows × 3 columns</p>\n",
       "</div>"
      ],
      "text/plain": [
       "                                        CCLE_Name            lineage_subtype  \\\n",
       "0         HL60_HAEMATOPOIETIC_AND_LYMPHOID_TISSUE                        AML   \n",
       "1          HEL_HAEMATOPOIETIC_AND_LYMPHOID_TISSUE                        AML   \n",
       "2      HEL9217_HAEMATOPOIETIC_AND_LYMPHOID_TISSUE                        AML   \n",
       "3     MONOMAC6_HAEMATOPOIETIC_AND_LYMPHOID_TISSUE                        AML   \n",
       "4                           LS513_LARGE_INTESTINE  colorectal_adenocarcinoma   \n",
       "...                                           ...                        ...   \n",
       "1221                                   HUH6CLONE5             hepatoblastoma   \n",
       "1222                                SARC9371_BONE               osteosarcoma   \n",
       "1223                      LIM1215_LARGE_INTESTINE       colon_adenocarcinoma   \n",
       "1224                                  WM793B_SKIN                   melanoma   \n",
       "1225                                           WT                         WT   \n",
       "\n",
       "        id  \n",
       "0      0.0  \n",
       "1      0.0  \n",
       "2      0.0  \n",
       "3      0.0  \n",
       "4      1.0  \n",
       "...    ...  \n",
       "1221  55.0  \n",
       "1222  25.0  \n",
       "1223  83.0  \n",
       "1224   2.0  \n",
       "1225  84.0  \n",
       "\n",
       "[1226 rows x 3 columns]"
      ]
     },
     "execution_count": 22,
     "metadata": {},
     "output_type": "execute_result"
    }
   ],
   "source": [
    "new_df"
   ]
  },
  {
   "cell_type": "markdown",
   "metadata": {},
   "source": [
    "# Assign each subtype a unique id"
   ]
  },
  {
   "cell_type": "code",
   "execution_count": 23,
   "metadata": {},
   "outputs": [
    {
     "data": {
      "text/plain": [
       "array([ 0.,  1.,  2.,  3.,  4.,  5.,  6.,  7.,  8.,  9., 10., 11., 12.,\n",
       "       13., 14., 15., 16., 17., 18., 19., 20., 21., 22., 23., 24., 25.,\n",
       "       26., 27., 28., 29., 30., 31., 32., 33., 34., 35., 36., 37., 38.,\n",
       "       39., 40., 41., 42., 43., 44., 45., 46., 47., 48., 49., 50., 51.,\n",
       "       nan, 53., 54., 55., 56., 57., 58., 59., 60., 61., 62., 63., 64.,\n",
       "       65., 66., 67., 68., 69., 70., 71., 72., 73., 74., 75., 76., 77.,\n",
       "       78., 79., 80., 81., 82., 83., 84.])"
      ]
     },
     "execution_count": 23,
     "metadata": {},
     "output_type": "execute_result"
    }
   ],
   "source": [
    "new_df.id.unique()"
   ]
  },
  {
   "cell_type": "code",
   "execution_count": 24,
   "metadata": {},
   "outputs": [
    {
     "data": {
      "text/plain": [
       "dtype('float64')"
      ]
     },
     "execution_count": 24,
     "metadata": {},
     "output_type": "execute_result"
    }
   ],
   "source": [
    "new_df.id.dtype"
   ]
  },
  {
   "cell_type": "code",
   "execution_count": 25,
   "metadata": {},
   "outputs": [],
   "source": [
    "new_df = new_df.fillna(value=-1)"
   ]
  },
  {
   "cell_type": "code",
   "execution_count": 26,
   "metadata": {},
   "outputs": [],
   "source": [
    "new_df = new_df.astype({'id': 'int32'})"
   ]
  },
  {
   "cell_type": "code",
   "execution_count": 27,
   "metadata": {},
   "outputs": [
    {
     "data": {
      "text/plain": [
       "array([ 0,  1,  2,  3,  4,  5,  6,  7,  8,  9, 10, 11, 12, 13, 14, 15, 16,\n",
       "       17, 18, 19, 20, 21, 22, 23, 24, 25, 26, 27, 28, 29, 30, 31, 32, 33,\n",
       "       34, 35, 36, 37, 38, 39, 40, 41, 42, 43, 44, 45, 46, 47, 48, 49, 50,\n",
       "       51, -1, 53, 54, 55, 56, 57, 58, 59, 60, 61, 62, 63, 64, 65, 66, 67,\n",
       "       68, 69, 70, 71, 72, 73, 74, 75, 76, 77, 78, 79, 80, 81, 82, 83, 84],\n",
       "      dtype=int32)"
      ]
     },
     "execution_count": 27,
     "metadata": {},
     "output_type": "execute_result"
    }
   ],
   "source": [
    "new_df['id'].unique()"
   ]
  },
  {
   "cell_type": "markdown",
   "metadata": {},
   "source": [
    "# Write dataframe to a csv file"
   ]
  },
  {
   "cell_type": "code",
   "execution_count": 28,
   "metadata": {},
   "outputs": [],
   "source": [
    "new_df.to_csv('../data/targets.txt', index=False)"
   ]
  },
  {
   "cell_type": "code",
   "execution_count": null,
   "metadata": {},
   "outputs": [],
   "source": []
  },
  {
   "cell_type": "code",
   "execution_count": 33,
   "metadata": {},
   "outputs": [
    {
     "data": {
      "text/html": [
       "<div>\n",
       "<style scoped>\n",
       "    .dataframe tbody tr th:only-of-type {\n",
       "        vertical-align: middle;\n",
       "    }\n",
       "\n",
       "    .dataframe tbody tr th {\n",
       "        vertical-align: top;\n",
       "    }\n",
       "\n",
       "    .dataframe thead th {\n",
       "        text-align: right;\n",
       "    }\n",
       "</style>\n",
       "<table border=\"1\" class=\"dataframe\">\n",
       "  <thead>\n",
       "    <tr style=\"text-align: right;\">\n",
       "      <th></th>\n",
       "      <th>CCLE_Name</th>\n",
       "      <th>lineage_subtype</th>\n",
       "      <th>id</th>\n",
       "    </tr>\n",
       "  </thead>\n",
       "  <tbody>\n",
       "    <tr>\n",
       "      <th>390</th>\n",
       "      <td>LI7_LIVER</td>\n",
       "      <td>-1</td>\n",
       "      <td>-1</td>\n",
       "    </tr>\n",
       "    <tr>\n",
       "      <th>901</th>\n",
       "      <td>RPMI6666_HAEMATOPOIETIC_AND_LYMPHOID_TISSUE</td>\n",
       "      <td>-1</td>\n",
       "      <td>-1</td>\n",
       "    </tr>\n",
       "    <tr>\n",
       "      <th>908</th>\n",
       "      <td>TK10_KIDNEY</td>\n",
       "      <td>-1</td>\n",
       "      <td>-1</td>\n",
       "    </tr>\n",
       "    <tr>\n",
       "      <th>997</th>\n",
       "      <td>COLO824_BREAST</td>\n",
       "      <td>-1</td>\n",
       "      <td>-1</td>\n",
       "    </tr>\n",
       "    <tr>\n",
       "      <th>1102</th>\n",
       "      <td>SW962_VULVA</td>\n",
       "      <td>-1</td>\n",
       "      <td>-1</td>\n",
       "    </tr>\n",
       "    <tr>\n",
       "      <th>1110</th>\n",
       "      <td>ARH77_HAEMATOPOIETIC_AND_LYMPHOID_TISSUE</td>\n",
       "      <td>-1</td>\n",
       "      <td>-1</td>\n",
       "    </tr>\n",
       "    <tr>\n",
       "      <th>1132</th>\n",
       "      <td>DOK_UPPER_AERODIGESTIVE_TRACT</td>\n",
       "      <td>-1</td>\n",
       "      <td>-1</td>\n",
       "    </tr>\n",
       "    <tr>\n",
       "      <th>1137</th>\n",
       "      <td>H3118_UPPER_AERODIGESTIVE_TRACT</td>\n",
       "      <td>-1</td>\n",
       "      <td>-1</td>\n",
       "    </tr>\n",
       "    <tr>\n",
       "      <th>1145</th>\n",
       "      <td>IM9_HAEMATOPOIETIC_AND_LYMPHOID_TISSUE</td>\n",
       "      <td>-1</td>\n",
       "      <td>-1</td>\n",
       "    </tr>\n",
       "    <tr>\n",
       "      <th>1168</th>\n",
       "      <td>MCCAR_HAEMATOPOIETIC_AND_LYMPHOID_TISSUE</td>\n",
       "      <td>-1</td>\n",
       "      <td>-1</td>\n",
       "    </tr>\n",
       "    <tr>\n",
       "      <th>1184</th>\n",
       "      <td>NEC8_TESTIS</td>\n",
       "      <td>-1</td>\n",
       "      <td>-1</td>\n",
       "    </tr>\n",
       "    <tr>\n",
       "      <th>1209</th>\n",
       "      <td>WIL2NS_HAEMATOPOIETIC_AND_LYMPHOID_TISSUE</td>\n",
       "      <td>-1</td>\n",
       "      <td>-1</td>\n",
       "    </tr>\n",
       "  </tbody>\n",
       "</table>\n",
       "</div>"
      ],
      "text/plain": [
       "                                        CCLE_Name lineage_subtype  id\n",
       "390                                     LI7_LIVER              -1  -1\n",
       "901   RPMI6666_HAEMATOPOIETIC_AND_LYMPHOID_TISSUE              -1  -1\n",
       "908                                   TK10_KIDNEY              -1  -1\n",
       "997                                COLO824_BREAST              -1  -1\n",
       "1102                                  SW962_VULVA              -1  -1\n",
       "1110     ARH77_HAEMATOPOIETIC_AND_LYMPHOID_TISSUE              -1  -1\n",
       "1132                DOK_UPPER_AERODIGESTIVE_TRACT              -1  -1\n",
       "1137              H3118_UPPER_AERODIGESTIVE_TRACT              -1  -1\n",
       "1145       IM9_HAEMATOPOIETIC_AND_LYMPHOID_TISSUE              -1  -1\n",
       "1168     MCCAR_HAEMATOPOIETIC_AND_LYMPHOID_TISSUE              -1  -1\n",
       "1184                                  NEC8_TESTIS              -1  -1\n",
       "1209    WIL2NS_HAEMATOPOIETIC_AND_LYMPHOID_TISSUE              -1  -1"
      ]
     },
     "execution_count": 33,
     "metadata": {},
     "output_type": "execute_result"
    }
   ],
   "source": [
    "new_df[new_df.id == -1]"
   ]
  },
  {
   "cell_type": "code",
   "execution_count": 34,
   "metadata": {},
   "outputs": [
    {
     "data": {
      "text/html": [
       "<div>\n",
       "<style scoped>\n",
       "    .dataframe tbody tr th:only-of-type {\n",
       "        vertical-align: middle;\n",
       "    }\n",
       "\n",
       "    .dataframe tbody tr th {\n",
       "        vertical-align: top;\n",
       "    }\n",
       "\n",
       "    .dataframe thead th {\n",
       "        text-align: right;\n",
       "    }\n",
       "</style>\n",
       "<table border=\"1\" class=\"dataframe\">\n",
       "  <thead>\n",
       "    <tr style=\"text-align: right;\">\n",
       "      <th></th>\n",
       "      <th>CCLE_Name</th>\n",
       "      <th>lineage</th>\n",
       "      <th>lineage_subtype</th>\n",
       "    </tr>\n",
       "  </thead>\n",
       "  <tbody>\n",
       "    <tr>\n",
       "      <th>390</th>\n",
       "      <td>LI7_LIVER</td>\n",
       "      <td>liver</td>\n",
       "      <td>NaN</td>\n",
       "    </tr>\n",
       "    <tr>\n",
       "      <th>901</th>\n",
       "      <td>RPMI6666_HAEMATOPOIETIC_AND_LYMPHOID_TISSUE</td>\n",
       "      <td>unknown</td>\n",
       "      <td>NaN</td>\n",
       "    </tr>\n",
       "    <tr>\n",
       "      <th>908</th>\n",
       "      <td>TK10_KIDNEY</td>\n",
       "      <td>kidney</td>\n",
       "      <td>NaN</td>\n",
       "    </tr>\n",
       "    <tr>\n",
       "      <th>997</th>\n",
       "      <td>COLO824_BREAST</td>\n",
       "      <td>breast</td>\n",
       "      <td>NaN</td>\n",
       "    </tr>\n",
       "    <tr>\n",
       "      <th>1102</th>\n",
       "      <td>SW962_VULVA</td>\n",
       "      <td>skin</td>\n",
       "      <td>NaN</td>\n",
       "    </tr>\n",
       "    <tr>\n",
       "      <th>1110</th>\n",
       "      <td>ARH77_HAEMATOPOIETIC_AND_LYMPHOID_TISSUE</td>\n",
       "      <td>engineered</td>\n",
       "      <td>NaN</td>\n",
       "    </tr>\n",
       "    <tr>\n",
       "      <th>1132</th>\n",
       "      <td>DOK_UPPER_AERODIGESTIVE_TRACT</td>\n",
       "      <td>upper_aerodigestive</td>\n",
       "      <td>NaN</td>\n",
       "    </tr>\n",
       "    <tr>\n",
       "      <th>1137</th>\n",
       "      <td>H3118_UPPER_AERODIGESTIVE_TRACT</td>\n",
       "      <td>upper_aerodigestive</td>\n",
       "      <td>NaN</td>\n",
       "    </tr>\n",
       "    <tr>\n",
       "      <th>1145</th>\n",
       "      <td>IM9_HAEMATOPOIETIC_AND_LYMPHOID_TISSUE</td>\n",
       "      <td>engineered</td>\n",
       "      <td>NaN</td>\n",
       "    </tr>\n",
       "    <tr>\n",
       "      <th>1168</th>\n",
       "      <td>MCCAR_HAEMATOPOIETIC_AND_LYMPHOID_TISSUE</td>\n",
       "      <td>engineered</td>\n",
       "      <td>NaN</td>\n",
       "    </tr>\n",
       "    <tr>\n",
       "      <th>1184</th>\n",
       "      <td>NEC8_TESTIS</td>\n",
       "      <td>embryo</td>\n",
       "      <td>NaN</td>\n",
       "    </tr>\n",
       "    <tr>\n",
       "      <th>1209</th>\n",
       "      <td>WIL2NS_HAEMATOPOIETIC_AND_LYMPHOID_TISSUE</td>\n",
       "      <td>engineered</td>\n",
       "      <td>NaN</td>\n",
       "    </tr>\n",
       "  </tbody>\n",
       "</table>\n",
       "</div>"
      ],
      "text/plain": [
       "                                        CCLE_Name              lineage  \\\n",
       "390                                     LI7_LIVER                liver   \n",
       "901   RPMI6666_HAEMATOPOIETIC_AND_LYMPHOID_TISSUE              unknown   \n",
       "908                                   TK10_KIDNEY               kidney   \n",
       "997                                COLO824_BREAST               breast   \n",
       "1102                                  SW962_VULVA                 skin   \n",
       "1110     ARH77_HAEMATOPOIETIC_AND_LYMPHOID_TISSUE           engineered   \n",
       "1132                DOK_UPPER_AERODIGESTIVE_TRACT  upper_aerodigestive   \n",
       "1137              H3118_UPPER_AERODIGESTIVE_TRACT  upper_aerodigestive   \n",
       "1145       IM9_HAEMATOPOIETIC_AND_LYMPHOID_TISSUE           engineered   \n",
       "1168     MCCAR_HAEMATOPOIETIC_AND_LYMPHOID_TISSUE           engineered   \n",
       "1184                                  NEC8_TESTIS               embryo   \n",
       "1209    WIL2NS_HAEMATOPOIETIC_AND_LYMPHOID_TISSUE           engineered   \n",
       "\n",
       "     lineage_subtype  \n",
       "390              NaN  \n",
       "901              NaN  \n",
       "908              NaN  \n",
       "997              NaN  \n",
       "1102             NaN  \n",
       "1110             NaN  \n",
       "1132             NaN  \n",
       "1137             NaN  \n",
       "1145             NaN  \n",
       "1168             NaN  \n",
       "1184             NaN  \n",
       "1209             NaN  "
      ]
     },
     "execution_count": 34,
     "metadata": {},
     "output_type": "execute_result"
    }
   ],
   "source": [
    "df[new_df.id == -1]"
   ]
  },
  {
   "cell_type": "code",
   "execution_count": null,
   "metadata": {},
   "outputs": [],
   "source": []
  }
 ],
 "metadata": {
  "kernelspec": {
   "display_name": "Python 3",
   "language": "python",
   "name": "python3"
  },
  "language_info": {
   "codemirror_mode": {
    "name": "ipython",
    "version": 3
   },
   "file_extension": ".py",
   "mimetype": "text/x-python",
   "name": "python",
   "nbconvert_exporter": "python",
   "pygments_lexer": "ipython3",
   "version": "3.8.5"
  }
 },
 "nbformat": 4,
 "nbformat_minor": 4
}
